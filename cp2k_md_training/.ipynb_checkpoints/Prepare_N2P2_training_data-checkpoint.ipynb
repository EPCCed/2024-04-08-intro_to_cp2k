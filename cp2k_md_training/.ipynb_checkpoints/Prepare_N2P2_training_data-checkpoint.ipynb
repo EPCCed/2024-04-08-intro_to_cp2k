{
 "cells": [
  {
   "cell_type": "markdown",
   "id": "74b108f9-4ff3-4f24-bc83-46b4b882a26f",
   "metadata": {},
   "source": [
    "# Introduction to CP2K:\n",
    "<hr>\n",
    "<h2>Prepare <code>input.data</code> for N2P2</h2>\n",
    "\n",
    "<blockquote>\n",
    "Date: 08-04-2024<br>\n",
    "Written by:<br>\n",
    "    &nbsp; Lei Lei: <a href=\"mailto:lei.lei2@nottingham.ac.uk\">Lei.Lei2@nottingham.ac.uk</a><br>\n",
    "    &nbsp; Sanliang Ling: <a href=\"mailto:sanliang.ling@nottingham.ac.uk\">Sanliang.Ling@nottingham.ac.uk</a>\n",
    "</blockquote>"
   ]
  },
  {
   "cell_type": "markdown",
   "id": "19e9f722-9baf-49a2-9f67-2fdfac8b6cb3",
   "metadata": {
    "tags": []
   },
   "source": [
    "## Install [AML](https://github.com/MarsalekGroup/aml) package\n",
    "<span style=\"color: #b2182b; font-size:150%; font-weight: bold;\">Note:</span> We made minor changes on `aml`:\n",
    "- modified `aml.io.cp2k` module so that frames can deal with changing cell parameters\n",
    "- added `random_split` method for  `Structures` class in `structures` module  "
   ]
  },
  {
   "cell_type": "code",
   "execution_count": 4,
   "id": "25f80291-8510-4992-a465-f09bcd8f3f7c",
   "metadata": {
    "tags": []
   },
   "outputs": [],
   "source": [
    "!cd aml #change to your actual aml directory"
   ]
  },
  {
   "cell_type": "code",
   "execution_count": null,
   "id": "9c165e5d-d369-4b60-adfc-a923f1ae3aca",
   "metadata": {},
   "outputs": [],
   "source": [
    "!source env.sh"
   ]
  },
  {
   "cell_type": "markdown",
   "id": "332fab55-0830-4d9a-88ff-97e97b8c2522",
   "metadata": {},
   "source": [
    "If you'd like to install the original `AML`:\n",
    "\n",
    "```shell\n",
    "git clone https://github.com/MarsalekGroup/aml.git\n",
    "cd aml\n",
    "source env.sh\n",
    "```"
   ]
  },
  {
   "cell_type": "markdown",
   "id": "50934fe4-2131-4398-9011-f57388f91cf0",
   "metadata": {
    "tags": []
   },
   "source": [
    "## Import modules"
   ]
  },
  {
   "cell_type": "code",
   "execution_count": 4,
   "id": "b7658c62-8880-497e-82d1-6a31061713bd",
   "metadata": {
    "tags": []
   },
   "outputs": [],
   "source": [
    "import os\n",
    "import numpy as np\n",
    "import pandas as pd\n",
    "from aml.io import cp2k\n",
    "from aml.structures import Structures"
   ]
  },
  {
   "cell_type": "markdown",
   "id": "c2a210ee-e729-4ca0-bb58-421486ab792e",
   "metadata": {},
   "source": [
    "Define a function to extract the cell parameters from 'PROJECT-1.cell' file"
   ]
  },
  {
   "cell_type": "code",
   "execution_count": 5,
   "id": "3fd998df-d12e-451b-b652-acdde5656cbd",
   "metadata": {
    "tags": []
   },
   "outputs": [],
   "source": [
    "def get_cell(folder, project = \"sys\"):\n",
    "    cell_df = pd.read_csv(f\"{folder}/{project}-1.cell\", sep = \"[ ]{2,}\", engine='python')\n",
    "    names = [name for name in list(cell_df) if name.endswith(\"[Angstrom]\")]\n",
    "    cell_df = cell_df[names]\n",
    "    cells = cell_df.values.reshape((len(cell_df), 3, 3))\n",
    "    return cells"
   ]
  },
  {
   "cell_type": "markdown",
   "id": "4bef1eb9-e5e7-4993-8c20-684c1411d060",
   "metadata": {},
   "source": [
    "Define the function to convert CP2K trajectory data into RuNNEr/N2P2 format"
   ]
  },
  {
   "cell_type": "code",
   "execution_count": 18,
   "id": "743bfcf6-fca8-4706-989e-3171c88a647e",
   "metadata": {
    "tags": []
   },
   "outputs": [],
   "source": [
    "def write_input(folder, project = \"sys\",\n",
    "                random_split = False,\n",
    "                test_size = None\n",
    "               ):\n",
    "    fn_positions =  f'{folder}/{project}-pos-1.xyz'\n",
    "    fn_forces =  f'{folder}/{project}-frc-1.xyz'\n",
    "    cells = get_cell(folder, project = project)\n",
    "    \n",
    "    frames = cp2k.read_frames_cp2k(\n",
    "        fn_positions = fn_positions,\n",
    "        fn_forces = fn_forces,\n",
    "        cells = cells\n",
    "    )\n",
    "    \n",
    "    structures = Structures.from_frames(frames)\n",
    "    \n",
    "    if random_split:\n",
    "        assert any([test_size is None, isinstance(test_size, list)]), \\\n",
    "        \"Please use list as test_size, e.g. [0.9, 0.1].\"\n",
    "        if test_size is None:\n",
    "            print(\"Using default test size!\")\n",
    "            test_size = [0.9, 0.1]\n",
    "            \n",
    "        train_structs, test_structs = structures.random_split()\n",
    "        \n",
    "        train_structs.to_file(f'{folder}/input.data', label_prop='reference')\n",
    "        test_structs.to_file(f'{folder}/hold_test.data', label_prop='reference')\n",
    "        \n",
    "        print(\n",
    "            f\"Done! CP2K reference data converted to N2P2 input file: 'input.data'\\n \\\n",
    "            {test_size[-1] * 100} % held as test data: 'hold_test.data'\"\n",
    "        )\n",
    "    \n",
    "    else:\n",
    "        structures.to_file(f'{folder}/input.data', label_prop='reference')\n",
    "        print(\"Done! CP2K reference data converted to N2P2 input file: 'input.data'\")"
   ]
  },
  {
   "cell_type": "markdown",
   "id": "ba1f12e4-325f-4647-befb-2b1d2a6d78b1",
   "metadata": {},
   "source": [
    "## Convert files using defined functions"
   ]
  },
  {
   "cell_type": "code",
   "execution_count": 19,
   "id": "94b4a639-adb3-4d44-aca2-c76732b57c60",
   "metadata": {
    "tags": []
   },
   "outputs": [
    {
     "name": "stdout",
     "output_type": "stream",
     "text": [
      "Done! CP2K reference data converted to N2P2 input file: 'input.data'\n"
     ]
    }
   ],
   "source": [
    "write_input(\"Mg_ML\")"
   ]
  },
  {
   "cell_type": "code",
   "execution_count": 14,
   "id": "ee741be4-0a78-4328-9a30-40c528aedbcb",
   "metadata": {
    "tags": []
   },
   "outputs": [
    {
     "name": "stdout",
     "output_type": "stream",
     "text": [
      "Using default test size!\n",
      "Done! CP2K reference data converted to N2P2 input file: 'input.data'\n",
      "             10.0 % held as test data: 'hold_test.data'\n"
     ]
    }
   ],
   "source": [
    "write_input(\"Mg_ML\", random_split = True)"
   ]
  },
  {
   "cell_type": "markdown",
   "id": "c1738cc0-1afa-43c4-a601-c136e90f0902",
   "metadata": {},
   "source": [
    "## Appendix\n",
    "\n",
    "### N2P2 docs\n",
    "https://compphysvienna.github.io/n2p2/index.html\n",
    "\n",
    "### N2P2 training procedure\n",
    "https://compphysvienna.github.io/n2p2/topics/training.html"
   ]
  }
 ],
 "metadata": {
  "kernelspec": {
   "display_name": "Python 3 (ipykernel)",
   "language": "python",
   "name": "python3"
  },
  "language_info": {
   "codemirror_mode": {
    "name": "ipython",
    "version": 3
   },
   "file_extension": ".py",
   "mimetype": "text/x-python",
   "name": "python",
   "nbconvert_exporter": "python",
   "pygments_lexer": "ipython3",
   "version": "3.8.10"
  }
 },
 "nbformat": 4,
 "nbformat_minor": 5
}
